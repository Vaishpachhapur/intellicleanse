{
 "cells": [
  {
   "cell_type": "code",
   "execution_count": 6,
   "metadata": {},
   "outputs": [],
   "source": [
    "# Step 1: Import necessary libraries\n",
    "import pandas as pd\n",
    "from sklearn.model_selection import train_test_split\n",
    "from sklearn.preprocessing import LabelEncoder, StandardScaler\n",
    "from sklearn.ensemble import RandomForestClassifier\n",
    "from sklearn.metrics import accuracy_score, classification_report\n",
    "from datetime import datetime\n",
    "import numpy as np"
   ]
  },
  {
   "cell_type": "code",
   "execution_count": 7,
   "metadata": {},
   "outputs": [],
   "source": [
    "# Step 2: Load the dataset\n",
    "file_path = 'structured_dataset.xlsx'  # Update with the correct path if needed\n",
    "data = pd.read_excel(file_path)"
   ]
  },
  {
   "cell_type": "code",
   "execution_count": 9,
   "metadata": {},
   "outputs": [],
   "source": [
    "# Step 3: Preprocess the data\n",
    "# Drop irrelevant columns\n",
    "processed_data = data.drop(columns=['Record_ID', 'Name', 'Comments'])\n",
    "\n",
    "# Handle missing values: Fill numeric columns with mean and categorical with mode\n",
    "for column in processed_data.columns:\n",
    "    if processed_data[column].dtype in [np.float64, np.int64]:\n",
    "        processed_data[column] = processed_data[column].fillna(processed_data[column].mean())\n",
    "    else:\n",
    "        processed_data[column] = processed_data[column].fillna(processed_data[column].mode()[0])\n",
    "\n",
    "\n",
    "# Convert 'Date_Joined' to numerical form (days since a reference date)\n",
    "reference_date = datetime(2000, 1, 1)\n",
    "processed_data['Date_Joined'] = (\n",
    "    pd.to_datetime(processed_data['Date_Joined']) - reference_date\n",
    ").dt.days\n",
    "\n",
    "# Encode categorical columns using LabelEncoder\n",
    "label_encoders = {}\n",
    "for column in processed_data.select_dtypes(include=['object']).columns:\n",
    "    le = LabelEncoder()\n",
    "    processed_data[column] = le.fit_transform(processed_data[column])\n",
    "    label_encoders[column] = le\n"
   ]
  },
  {
   "cell_type": "code",
   "execution_count": 3,
   "metadata": {},
   "outputs": [],
   "source": [
    "# Step 3: Split dataset into features and target\n",
    "def split_features_target(data, target_column):\n",
    "    \"\"\"\n",
    "    Split the dataset into features (X) and target (y).\n",
    "    \"\"\"\n",
    "    X = data.drop(target_column, axis=1)\n",
    "    y = data[target_column]\n",
    "    return X, y"
   ]
  },
  {
   "cell_type": "code",
   "execution_count": 4,
   "metadata": {},
   "outputs": [],
   "source": [
    "# Step 4: Train and test the model\n",
    "def train_and_test_model(X, y):\n",
    "    \"\"\"\n",
    "    Train and test a Random Forest Classifier.\n",
    "    \"\"\"\n",
    "    # Split the data into training and testing sets\n",
    "    X_train, X_test, y_train, y_test = train_test_split(X, y, test_size=0.2, random_state=42)\n",
    "    \n",
    "    # Train the Random Forest model\n",
    "    model = RandomForestClassifier(random_state=42)\n",
    "    model.fit(X_train, y_train)\n",
    "    \n",
    "    # Predict on test data\n",
    "    y_pred = model.predict(X_test)\n",
    "    \n",
    "    # Evaluate the model\n",
    "    accuracy = accuracy_score(y_test, y_pred)\n",
    "    print(\"Confusion Matrix:\\n\", confusion_matrix(y_test, y_pred))\n",
    "    print(\"Classification Report:\\n\", classification_report(y_test, y_pred))\n",
    "    return accuracy\n"
   ]
  },
  {
   "cell_type": "code",
   "execution_count": 5,
   "metadata": {},
   "outputs": [
    {
     "name": "stdout",
     "output_type": "stream",
     "text": [
      "Error loading dataset: name 'pd' is not defined\n",
      "Dataset loading failed.\n"
     ]
    }
   ],
   "source": [
    "# Main Execution\n",
    "if __name__ == \"__main__\":\n",
    "    # Specify the dataset file path\n",
    "    dataset_path = \"structured_dataset.xlsx\"  # Update with your dataset's path\n",
    "    target_column = \"TargetColumn\"  # Replace with the name of your target column\n",
    "\n",
    "    # Step 1: Load the dataset\n",
    "    data = load_dataset(dataset_path)\n",
    "    if data is not None:\n",
    "        print(\"Dataset Preview:\\n\", data.head())\n",
    "\n",
    "        # Step 2: Preprocess the data\n",
    "        print(\"\\nPreprocessing the dataset...\")\n",
    "        data = preprocess_data(data, target_column)\n",
    "        \n",
    "        # Step 3: Split features and target\n",
    "        print(\"\\nSplitting features and target...\")\n",
    "        X, y = split_features_target(data, target_column)\n",
    "\n",
    "        # Step 4: Train and test the model\n",
    "        print(\"\\nTraining and testing the model...\")\n",
    "        accuracy = train_and_test_model(X, y)\n",
    "        print(f\"Model Accuracy: {accuracy * 100:.2f}%\")\n",
    "    else:\n",
    "        print(\"Dataset loading failed.\")"
   ]
  },
  {
   "cell_type": "code",
   "execution_count": null,
   "metadata": {},
   "outputs": [],
   "source": []
  }
 ],
 "metadata": {
  "kernelspec": {
   "display_name": "base",
   "language": "python",
   "name": "python3"
  },
  "language_info": {
   "codemirror_mode": {
    "name": "ipython",
    "version": 3
   },
   "file_extension": ".py",
   "mimetype": "text/x-python",
   "name": "python",
   "nbconvert_exporter": "python",
   "pygments_lexer": "ipython3",
   "version": "3.12.7"
  }
 },
 "nbformat": 4,
 "nbformat_minor": 2
}
